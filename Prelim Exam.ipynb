{
  "nbformat": 4,
  "nbformat_minor": 0,
  "metadata": {
    "colab": {
      "provenance": [],
      "authorship_tag": "ABX9TyM1/lgiV5cLO7s9NmqjbUpH",
      "include_colab_link": true
    },
    "kernelspec": {
      "name": "python3",
      "display_name": "Python 3"
    },
    "language_info": {
      "name": "python"
    }
  },
  "cells": [
    {
      "cell_type": "markdown",
      "metadata": {
        "id": "view-in-github",
        "colab_type": "text"
      },
      "source": [
        "<a href=\"https://colab.research.google.com/github/RoelJohnGuzman/58009-DSAA/blob/main/Prelim%20Exam.ipynb\" target=\"_parent\"><img src=\"https://colab.research.google.com/assets/colab-badge.svg\" alt=\"Open In Colab\"/></a>"
      ]
    },
    {
      "cell_type": "code",
      "source": [
        "scores = [26, 49, 98, 87, 62, 75]\n",
        "\n",
        "sum = 0\n",
        "\n",
        "for i in range(0, 6):\n",
        "  sum = sum+scores[i]\n",
        "print(\"the sum of the scores are:\" ,sum)\n",
        "scores.sort()\n",
        "print(\"the scores in ascending order is: \", scores)\n",
        "\n"
      ],
      "metadata": {
        "colab": {
          "base_uri": "https://localhost:8080/"
        },
        "id": "2cppI0wF6szW",
        "outputId": "4175e564-2634-4191-ba75-05bce2bb66f0"
      },
      "execution_count": 27,
      "outputs": [
        {
          "output_type": "stream",
          "name": "stdout",
          "text": [
            "the sum of the scores are: 397\n",
            "the scores in ascending order is:  [26, 49, 62, 75, 87, 98]\n"
          ]
        }
      ]
    }
  ]
}