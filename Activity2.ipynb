{
  "nbformat": 4,
  "nbformat_minor": 0,
  "metadata": {
    "colab": {
      "provenance": [],
      "authorship_tag": "ABX9TyPl/cG4nJ3jNBtYbD/ZBveG",
      "include_colab_link": true
    },
    "kernelspec": {
      "name": "python3",
      "display_name": "Python 3"
    },
    "language_info": {
      "name": "python"
    }
  },
  "cells": [
    {
      "cell_type": "markdown",
      "metadata": {
        "id": "view-in-github",
        "colab_type": "text"
      },
      "source": [
        "<a href=\"https://colab.research.google.com/github/RoelJohnGuzman/58009-DSAA/blob/main/Activity2.ipynb\" target=\"_parent\"><img src=\"https://colab.research.google.com/assets/colab-badge.svg\" alt=\"Open In Colab\"/></a>"
      ]
    },
    {
      "cell_type": "code",
      "source": [
        "def primenumbers(num):\n",
        "  if num <2:\n",
        "    return False\n",
        "  else:\n",
        "    for n in range (3, num):\n",
        "        if num % n == 0:\n",
        "          return False\n",
        "  return True\n",
        "\n",
        "class Node:\n",
        "    def __init__(self,data):\n",
        "        self.data = data\n",
        "        self.next = None\n",
        "\n",
        "class Linkedlist:\n",
        "    def __init__(self):\n",
        "      self.head = None\n",
        "      self.tail = None\n",
        "\n",
        "    def add(self, data):\n",
        "        new_node = Node(data)\n",
        "        if self.head is None:\n",
        "            self.head = new_node\n",
        "            self.tail = new_node\n",
        "        else:\n",
        "            self.tail.next = new_node\n",
        "            self.tail = new_node\n",
        "\n",
        "    def display(self):\n",
        "      current = self.head\n",
        "      while(current):\n",
        "          print(current.data, end= \" \")\n",
        "          current = current.next\n",
        "      print()\n",
        "\n",
        "def main():\n",
        "    prime_number_list = Linkedlist()\n",
        "    for num in range(3,20):\n",
        "        if primenumbers(num):\n",
        "            prime_number_list.add(num)\n",
        "\n",
        "    print(\"The prime numbers are: \")\n",
        "    prime_number_list.display()\n",
        "    print(\"the head is \", prime_number_list.head.data)\n",
        "    print(\"the tail is \", prime_number_list.tail.data)\n",
        "\n",
        "if __name__ == \"__main__\":\n",
        "   main()\n",
        "\n"
      ],
      "metadata": {
        "colab": {
          "base_uri": "https://localhost:8080/"
        },
        "id": "y_0xH14njjyn",
        "outputId": "56e09890-80e6-43ee-884d-e0d769637bb0"
      },
      "execution_count": 81,
      "outputs": [
        {
          "output_type": "stream",
          "name": "stdout",
          "text": [
            "The prime numbers are: \n",
            "3 4 5 7 11 13 17 19 \n",
            "the head is  3\n",
            "the tail is  19\n"
          ]
        }
      ]
    }
  ]
}