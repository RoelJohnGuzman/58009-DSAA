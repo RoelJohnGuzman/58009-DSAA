{
  "nbformat": 4,
  "nbformat_minor": 0,
  "metadata": {
    "colab": {
      "provenance": [],
      "authorship_tag": "ABX9TyOMY5tV9QF3sNGnQ2opqaB3",
      "include_colab_link": true
    },
    "kernelspec": {
      "name": "python3",
      "display_name": "Python 3"
    },
    "language_info": {
      "name": "python"
    }
  },
  "cells": [
    {
      "cell_type": "markdown",
      "metadata": {
        "id": "view-in-github",
        "colab_type": "text"
      },
      "source": [
        "<a href=\"https://colab.research.google.com/github/RoelJohnGuzman/58009-DSAA/blob/main/LinkedList.ipynb\" target=\"_parent\"><img src=\"https://colab.research.google.com/assets/colab-badge.svg\" alt=\"Open In Colab\"/></a>"
      ]
    },
    {
      "cell_type": "code",
      "execution_count": 5,
      "metadata": {
        "colab": {
          "base_uri": "https://localhost:8080/",
          "height": 36
        },
        "id": "Oc5lSuP7pyr-",
        "outputId": "e48e4a8f-1dea-4e71-ada7-ee5dee81ace5"
      },
      "outputs": [
        {
          "output_type": "execute_result",
          "data": {
            "text/plain": [
              "'f'"
            ],
            "application/vnd.google.colaboratory.intrinsic+json": {
              "type": "string"
            }
          },
          "metadata": {},
          "execution_count": 5
        }
      ],
      "source": [
        "import array\n",
        "array.typecodes\n",
        "a =array.array('i',[1,2,3,4,5,6])\n",
        "b =array.array('f',[1.5,2.5,3.5,4.5,5.5,6.5])\n",
        "a.typecode\n",
        "b.typecode"
      ]
    },
    {
      "cell_type": "code",
      "source": [
        "from array import array\n",
        "a= array('i',[4,5,6,7])\n",
        "a.insert(1,2)\n",
        "a\n",
        "array ('i',[4,2,5,6,7])\n",
        "a.insert(-1,0)\n",
        "a\n",
        "array ('i',[4,2,5,6,7])\n",
        "a.insert(10,-1)\n",
        "a"
      ],
      "metadata": {
        "colab": {
          "base_uri": "https://localhost:8080/"
        },
        "id": "qb8ZMczPtXQZ",
        "outputId": "0ef33dc6-940a-4d29-d511-95b8e3d5c32d"
      },
      "execution_count": 18,
      "outputs": [
        {
          "output_type": "execute_result",
          "data": {
            "text/plain": [
              "array('i', [4, 2, 5, 6, 0, 7, -1])"
            ]
          },
          "metadata": {},
          "execution_count": 18
        }
      ]
    },
    {
      "cell_type": "code",
      "source": [
        "from array import array\n",
        "a= array('i',[4,5,6,7])\n",
        "a.insert(1,2)\n",
        "a"
      ],
      "metadata": {
        "id": "GVgwZIFnu9rX"
      },
      "execution_count": null,
      "outputs": []
    },
    {
      "cell_type": "code",
      "source": [
        "array ('i',[4,2,5,6,7])\n",
        "a.insert(-1,0)\n",
        "a"
      ],
      "metadata": {
        "colab": {
          "base_uri": "https://localhost:8080/"
        },
        "id": "rNtPzGgKuCIY",
        "outputId": "1d6a2a5b-cbf8-4422-b24d-82f47fa6720a"
      },
      "execution_count": 16,
      "outputs": [
        {
          "output_type": "execute_result",
          "data": {
            "text/plain": [
              "array('i', [4, 2, 5, 6, 0, 0, 7, 0, 0, 0, -1])"
            ]
          },
          "metadata": {},
          "execution_count": 16
        }
      ]
    },
    {
      "cell_type": "code",
      "source": [
        "array ('i',[4,2,5,6,7])\n",
        "a.insert(10,-1)\n",
        "a"
      ],
      "metadata": {
        "colab": {
          "base_uri": "https://localhost:8080/"
        },
        "id": "a9KOX5tWuGhP",
        "outputId": "ebf5b524-7c7d-4a26-9fa4-30df854a92a9"
      },
      "execution_count": 17,
      "outputs": [
        {
          "output_type": "execute_result",
          "data": {
            "text/plain": [
              "array('i', [4, 2, 5, 6, 0, 0, 7, 0, 0, 0, -1, -1])"
            ]
          },
          "metadata": {},
          "execution_count": 17
        }
      ]
    },
    {
      "cell_type": "markdown",
      "source": [
        "Simple LinkedList\n"
      ],
      "metadata": {
        "id": "5RO7_6WmI-E1"
      }
    },
    {
      "cell_type": "code",
      "source": [
        "class Node:\n",
        "  def __init__(self,data):\n",
        "    self.data = data\n",
        "    self.next = None\n",
        "\n",
        "  class LinkedList:\n",
        "    def __init__(self):\n",
        "      self.head = None"
      ],
      "metadata": {
        "id": "8TZoXVlCvFHl"
      },
      "execution_count": 20,
      "outputs": []
    },
    {
      "cell_type": "markdown",
      "source": [
        "Double Linkedlist (assignment)"
      ],
      "metadata": {
        "id": "EvJYbsAKJDC0"
      }
    },
    {
      "cell_type": "code",
      "source": [
        "class Node:\n",
        "  def __init__(self,data):\n",
        "    self.data = data\n",
        "    self.next = None\n",
        "    self.prev = None\n",
        "\n",
        "class Linkedlist:\n",
        "  def __init__(self):\n",
        "    self.head = None\n",
        "    self.tail = None\n",
        "\n",
        "  def printlist(self):\n",
        "    temp = self.head\n",
        "    while(temp):\n",
        "      print(temp.data)\n",
        "      temp = temp.next\n",
        "\n",
        "  def prevlist(self):\n",
        "    temp = self.tail\n",
        "    while(temp):\n",
        "      print(temp.data)\n",
        "      temp = temp.prev\n",
        "\n",
        "if __name__ =='__main__':\n",
        "  llist = Linkedlist()\n",
        "  llist.head=Node(1)\n",
        "  second = Node(2)\n",
        "  llist.tail = Node(3)\n",
        "\n",
        "  llist.head.next = second;\n",
        "  second.next = llist.tail;\n",
        "  llist.tail.prev = second;\n",
        "  second.prev = llist.head;\n",
        "\n",
        "\n",
        "llist.printlist()\n",
        "llist.prevlist()"
      ],
      "metadata": {
        "colab": {
          "base_uri": "https://localhost:8080/"
        },
        "id": "PjUVXdrJwzCu",
        "outputId": "6c52c629-550c-4787-ccf5-9ff384405a65"
      },
      "execution_count": 52,
      "outputs": [
        {
          "output_type": "stream",
          "name": "stdout",
          "text": [
            "1\n",
            "2\n",
            "3\n",
            "3\n",
            "2\n",
            "1\n"
          ]
        }
      ]
    }
  ]
}