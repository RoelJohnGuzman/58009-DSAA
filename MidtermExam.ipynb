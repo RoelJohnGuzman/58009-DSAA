{
  "nbformat": 4,
  "nbformat_minor": 0,
  "metadata": {
    "colab": {
      "provenance": [],
      "authorship_tag": "ABX9TyPLdF9abXlpaXgpdEKVz6+5",
      "include_colab_link": true
    },
    "kernelspec": {
      "name": "python3",
      "display_name": "Python 3"
    },
    "language_info": {
      "name": "python"
    }
  },
  "cells": [
    {
      "cell_type": "markdown",
      "metadata": {
        "id": "view-in-github",
        "colab_type": "text"
      },
      "source": [
        "<a href=\"https://colab.research.google.com/github/RoelJohnGuzman/58009-DSAA/blob/main/MidtermExam.ipynb\" target=\"_parent\"><img src=\"https://colab.research.google.com/assets/colab-badge.svg\" alt=\"Open In Colab\"/></a>"
      ]
    },
    {
      "cell_type": "code",
      "execution_count": 1,
      "metadata": {
        "colab": {
          "base_uri": "https://localhost:8080/"
        },
        "id": "THV3r2jQHqyL",
        "outputId": "384eb023-caa9-4caf-8b96-e8536e9e446d"
      },
      "outputs": [
        {
          "output_type": "stream",
          "name": "stdout",
          "text": [
            "The Edges are:  [{'B', 'A'}, {'B', 'E'}, {'B', 'C'}, {'B', 'F'}, {'E', 'C'}, {'F', 'C'}, {'D', 'C'}, {'M', 'C'}, {'C', 'I'}, {'L', 'D'}, {'K', 'D'}, {'E', 'N'}, {'F', 'I'}, {'G', 'F'}, {'G', 'I'}, {'G', 'J'}, {'J', 'I'}, {'K', 'I'}, {'K', 'J'}, {'L', 'M'}, {'L', 'P'}, {'M', 'N'}, {'O', 'M'}, {'M', 'P'}, {'O', 'N'}, {'O', 'P'}] \n",
            "\n",
            "The Verticles are:  ['A', 'B', 'C', 'D', 'E', 'F', 'G', 'I', 'J', 'K', 'L', 'M', 'N', 'O', 'P']\n"
          ]
        }
      ],
      "source": [
        "#Edges\n",
        "class graphedge:\n",
        "  def __init__(self,gdict=None):\n",
        "    if gdict is None:\n",
        "      gdict = {}\n",
        "    self.gdict = gdict\n",
        "\n",
        "  def edges(self):\n",
        "    return self.findedges()\n",
        "\n",
        "  def findedges(self):\n",
        "    edgename = []\n",
        "    for verticles in self.gdict:\n",
        "      for notvertices in self.gdict[verticles]:\n",
        "        if {verticles, notvertices} not in edgename:\n",
        "          edgename.append({verticles, notvertices})\n",
        "    return edgename\n",
        "\n",
        "#Verticles\n",
        "class graphvertices:\n",
        "  def __init__(self,gdict=None):\n",
        "    if gdict is None:\n",
        "      gdict = []\n",
        "    self.gdict = gdict\n",
        "  def Vertices(self):\n",
        "    return list(self.gdict.keys())\n",
        "\n",
        "graph_elements = {\n",
        "    \"A\" : [\"B\"],\n",
        "    \"B\" : [\"E\",\"C\",\"F\",\"A\"],\n",
        "    \"C\" : [\"B\",\"E\",\"F\",\"D\",\"M\",\"I\"],\n",
        "    \"D\" : [\"C\",\"L\",\"K\"],\n",
        "    \"E\" : [\"B\",\"C\",\"N\"],\n",
        "    \"F\" : [\"B\",\"C\",\"I\",\"G\"],\n",
        "    \"G\" : [\"F\",\"I\",\"J\"],\n",
        "    \"I\" : [\"F\",\"G\",\"C\",\"J\",\"K\"],\n",
        "    \"J\" : [\"G\",\"I\",\"K\"],\n",
        "    \"K\" : [\"I\",\"J\",\"D\"],\n",
        "    \"L\" : [\"D\",\"M\",\"P\"],\n",
        "    \"M\" : [\"N\",\"O\",\"P\",\"C\",\"L\"],\n",
        "    \"N\" : [\"E\",\"M\",\"O\"],\n",
        "    \"O\" : [\"N\",\"M\",\"P\"],\n",
        "    \"P\" : [\"O\",\"M\",\"L\"],\n",
        "}\n",
        "g = graphedge(graph_elements)\n",
        "print(\"The Edges are: \", g.edges(), \"\\n\")\n",
        "g1 = graphvertices(graph_elements)\n",
        "print(\"The Verticles are: \", g1.Vertices())"
      ]
    }
  ]
}