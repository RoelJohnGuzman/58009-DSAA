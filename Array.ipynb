{
  "nbformat": 4,
  "nbformat_minor": 0,
  "metadata": {
    "colab": {
      "provenance": [],
      "authorship_tag": "ABX9TyOstQUuh3qyXSybuNmRiM1H",
      "include_colab_link": true
    },
    "kernelspec": {
      "name": "python3",
      "display_name": "Python 3"
    },
    "language_info": {
      "name": "python"
    }
  },
  "cells": [
    {
      "cell_type": "markdown",
      "metadata": {
        "id": "view-in-github",
        "colab_type": "text"
      },
      "source": [
        "<a href=\"https://colab.research.google.com/github/RoelJohnGuzman/58009-DSAA/blob/main/Array.ipynb\" target=\"_parent\"><img src=\"https://colab.research.google.com/assets/colab-badge.svg\" alt=\"Open In Colab\"/></a>"
      ]
    },
    {
      "cell_type": "code",
      "execution_count": 14,
      "metadata": {
        "id": "SG6qo8TfVklI",
        "colab": {
          "base_uri": "https://localhost:8080/"
        },
        "outputId": "2aab4c4d-1a6a-4124-a629-6d9215dc2deb"
      },
      "outputs": [
        {
          "output_type": "stream",
          "name": "stdout",
          "text": [
            "cat\n"
          ]
        }
      ],
      "source": [
        "##Accessing the ELements in the Array##\n",
        "\n",
        "animals = [\"cat\", \"dog\",\"fish\"]\n",
        "x = animals[0]\n",
        "print(x)"
      ]
    },
    {
      "cell_type": "code",
      "source": [
        "#Modifying the ELements in the Array\n",
        "animals = [\"cat\", \"dog\", \"fish\"]\n",
        "animals[0] = \"monkey\"\n",
        "x = animals[0]\n",
        "print(x)"
      ],
      "metadata": {
        "colab": {
          "base_uri": "https://localhost:8080/"
        },
        "id": "COd8STATWP4f",
        "outputId": "116f460c-b98d-4e80-e2d9-3ea65405bacf"
      },
      "execution_count": 26,
      "outputs": [
        {
          "output_type": "stream",
          "name": "stdout",
          "text": [
            "monkey\n"
          ]
        }
      ]
    },
    {
      "cell_type": "code",
      "source": [
        "#Length of an Array\n",
        "\n",
        "animals = [\"cat\", \"dog\",\"fish\"]\n",
        "x = len(animals)\n",
        "print(x)"
      ],
      "metadata": {
        "colab": {
          "base_uri": "https://localhost:8080/"
        },
        "id": "qaNcF3F1X3_a",
        "outputId": "b46718ca-af19-4e40-9d24-94f6b6d53cda"
      },
      "execution_count": 19,
      "outputs": [
        {
          "output_type": "stream",
          "name": "stdout",
          "text": [
            "3\n"
          ]
        }
      ]
    },
    {
      "cell_type": "code",
      "source": [
        "#Looping Array Elements\n",
        "\n",
        "animals = [\"cat\", \"dog\",\"fish\"]\n",
        "for x in animals:\n",
        "  print(x)"
      ],
      "metadata": {
        "colab": {
          "base_uri": "https://localhost:8080/"
        },
        "id": "r02lMnIKYCOK",
        "outputId": "d5d8931c-dd87-46f5-b2e7-17e8b8b75bcf"
      },
      "execution_count": 21,
      "outputs": [
        {
          "output_type": "stream",
          "name": "stdout",
          "text": [
            "cat\n",
            "dog\n",
            "fish\n"
          ]
        }
      ]
    },
    {
      "cell_type": "code",
      "source": [
        "#Adding Elements in the Array\n",
        "\n",
        "animals = [\"cat\", \"dog\",\"fish\"]\n",
        "animals.append(\"monkey\")\n",
        "print(animals)"
      ],
      "metadata": {
        "colab": {
          "base_uri": "https://localhost:8080/"
        },
        "id": "W1yqHCMQYQmy",
        "outputId": "e4034a9d-0668-4ddc-bb8c-64e015509899"
      },
      "execution_count": 28,
      "outputs": [
        {
          "output_type": "stream",
          "name": "stdout",
          "text": [
            "['cat', 'dog', 'fish', 'monkey']\n"
          ]
        }
      ]
    },
    {
      "cell_type": "code",
      "source": [
        "#Remove an Element in the Array\n",
        "\n",
        "animals = [\"cat\", \"dog\",\"fish\"]\n",
        "animals.pop(1)\n",
        "print(animals)"
      ],
      "metadata": {
        "colab": {
          "base_uri": "https://localhost:8080/"
        },
        "id": "nS165pO4YdZL",
        "outputId": "d10e1f35-207b-4e36-bc3e-7824afb1ac42"
      },
      "execution_count": 30,
      "outputs": [
        {
          "output_type": "stream",
          "name": "stdout",
          "text": [
            "['cat', 'fish']\n"
          ]
        }
      ]
    },
    {
      "cell_type": "code",
      "source": [
        "#Sorting Elemets in the Array using sort\n",
        "\n",
        "animals = [\"cat\", \"dog\",\"fish\"]\n",
        "animals.sort()\n",
        "print(animals)"
      ],
      "metadata": {
        "colab": {
          "base_uri": "https://localhost:8080/"
        },
        "id": "D1I3lbQha5jv",
        "outputId": "f1199318-ba5d-4102-be85-2832014c33af"
      },
      "execution_count": 32,
      "outputs": [
        {
          "output_type": "stream",
          "name": "stdout",
          "text": [
            "['cat', 'dog', 'fish']\n"
          ]
        }
      ]
    },
    {
      "cell_type": "code",
      "source": [
        "#Sorting Elemets in the Array using reverse\n",
        "\n",
        "animals = [\"cat\", \"dog\",\"fish\"]\n",
        "animals.reverse()\n",
        "print(animals)"
      ],
      "metadata": {
        "colab": {
          "base_uri": "https://localhost:8080/"
        },
        "id": "iFfa1XcdbXCi",
        "outputId": "b0dd4ab1-cc5a-4408-81ae-1f6270b45a72"
      },
      "execution_count": 33,
      "outputs": [
        {
          "output_type": "stream",
          "name": "stdout",
          "text": [
            "['fish', 'dog', 'cat']\n"
          ]
        }
      ]
    }
  ]
}