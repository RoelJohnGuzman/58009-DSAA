{
  "nbformat": 4,
  "nbformat_minor": 0,
  "metadata": {
    "colab": {
      "provenance": [],
      "authorship_tag": "ABX9TyOICEjuvH2vv1HYh7ps5piV",
      "include_colab_link": true
    },
    "kernelspec": {
      "name": "python3",
      "display_name": "Python 3"
    },
    "language_info": {
      "name": "python"
    }
  },
  "cells": [
    {
      "cell_type": "markdown",
      "metadata": {
        "id": "view-in-github",
        "colab_type": "text"
      },
      "source": [
        "<a href=\"https://colab.research.google.com/github/RoelJohnGuzman/58009-DSAA/blob/main/Long%20Quiz%202.ipynb\" target=\"_parent\"><img src=\"https://colab.research.google.com/assets/colab-badge.svg\" alt=\"Open In Colab\"/></a>"
      ]
    },
    {
      "cell_type": "code",
      "source": [
        "#Edges\n",
        "class graphedge:\n",
        "  def __init__(self,gdict=None):\n",
        "    if gdict is None:\n",
        "      gdict = {}\n",
        "    self.gdict = gdict\n",
        "\n",
        "  def edges(self):\n",
        "    return self.findedges()\n",
        "\n",
        "  def findedges(self):\n",
        "    edgename = []\n",
        "    for verticles in self.gdict:\n",
        "      for notvertices in self.gdict[verticles]:\n",
        "        if {verticles, notvertices} not in edgename:\n",
        "          edgename.append({verticles, notvertices})\n",
        "    return edgename\n",
        "\n",
        "#Verticles\n",
        "class graphvertices:\n",
        "  def __init__(self,gdict=None):\n",
        "    if gdict is None:\n",
        "      gdict = []\n",
        "    self.gdict = gdict\n",
        "  def Vertices(self):\n",
        "    return list(self.gdict.keys())\n",
        "\n",
        "graph_elements = {\n",
        "    \"E\" : [\"M\",\"J\",\"K\",\"I\"],\n",
        "    \"F\" : [\"P\", \"K\",\"I\",\"J\"],\n",
        "    \"H\" : [\"K\", \"J\",\"I\"],\n",
        "    \"I\" : [\"P\",\"I\",\"H\"],\n",
        "    \"J\" : [\"E\",\"F\",\"H\"],\n",
        "    \"K\" : [\"H\",\"F\",\"E\"],\n",
        "    \"M\" : [\"E\"],\n",
        "    \"P\" : [\"F\"],\n",
        "}\n",
        "g = graphedge(graph_elements)\n",
        "print(\"The Edges are: \", g.edges(), \"\\n\")\n",
        "g1 = graphvertices(graph_elements)\n",
        "print(\"The Verticles are: \", g1.Vertices())"
      ],
      "metadata": {
        "colab": {
          "base_uri": "https://localhost:8080/"
        },
        "id": "m4HmhbUU2e8i",
        "outputId": "c1bc0656-f954-4b9f-c897-41ea0b575e87"
      },
      "execution_count": 22,
      "outputs": [
        {
          "output_type": "stream",
          "name": "stdout",
          "text": [
            "The Edges are:  [{'E', 'M'}, {'E', 'J'}, {'E', 'K'}, {'E', 'I'}, {'F', 'P'}, {'F', 'K'}, {'F', 'I'}, {'F', 'J'}, {'H', 'K'}, {'H', 'J'}, {'H', 'I'}, {'P', 'I'}, {'I'}] \n",
            "\n",
            "The Verticles are:  ['E', 'F', 'H', 'I', 'J', 'K', 'M', 'P']\n"
          ]
        }
      ]
    }
  ]
}