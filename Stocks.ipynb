{
  "nbformat": 4,
  "nbformat_minor": 0,
  "metadata": {
    "colab": {
      "provenance": [],
      "authorship_tag": "ABX9TyNd3qK2VZ/AKXIW02Cy6P1U",
      "include_colab_link": true
    },
    "kernelspec": {
      "name": "python3",
      "display_name": "Python 3"
    },
    "language_info": {
      "name": "python"
    }
  },
  "cells": [
    {
      "cell_type": "markdown",
      "metadata": {
        "id": "view-in-github",
        "colab_type": "text"
      },
      "source": [
        "<a href=\"https://colab.research.google.com/github/RoelJohnGuzman/58009-DSAA/blob/main/Stocks.ipynb\" target=\"_parent\"><img src=\"https://colab.research.google.com/assets/colab-badge.svg\" alt=\"Open In Colab\"/></a>"
      ]
    },
    {
      "cell_type": "code",
      "execution_count": 56,
      "metadata": {
        "colab": {
          "base_uri": "https://localhost:8080/"
        },
        "id": "npFwk3JwrFXe",
        "outputId": "9ac84dca-759c-4297-9369-18938ce1ce56"
      },
      "outputs": [
        {
          "output_type": "stream",
          "name": "stdout",
          "text": [
            "Sun\n",
            "['Mon', 'Tue', 'Wed', 'Thu', 'Fri', 'Sat']\n"
          ]
        }
      ],
      "source": [
        "class Stack:\n",
        "  def __init__(self):\n",
        "    self.stack = []\n",
        "\n",
        "  def add(self,dataval):\n",
        "    if dataval not in self.stack:\n",
        "      self.stack.append(dataval)\n",
        "      return True\n",
        "    else:\n",
        "      return False\n",
        "\n",
        "  def remove(self):\n",
        "    if len(self.stack) <= 0:\n",
        "      return (\"no element in the Stack\")\n",
        "    else:\n",
        "      return self.stack.pop()\n",
        "\n",
        "AStack = Stack()\n",
        "AStack.add(\"Mon\")\n",
        "AStack.add(\"Tue\")\n",
        "AStack.add(\"Wed\")\n",
        "AStack.add(\"Thu\")\n",
        "AStack.add(\"Fri\")\n",
        "AStack.add(\"Sat\")\n",
        "AStack.add(\"Sun\")\n",
        "print(AStack.remove())\n",
        "print(AStack.stack)"
      ]
    },
    {
      "cell_type": "code",
      "source": [
        "# Stack implementation in python\n",
        "\n",
        "# Creating a stack\n",
        "def create_stack():\n",
        "    stack = []\n",
        "    return stack\n",
        "\n",
        "# Creating an empty stack\n",
        "def is_empty(stack):\n",
        "    return len(stack) == 0\n",
        "\n",
        "# Adding items into the stack\n",
        "def push(stack, item):\n",
        "    stack.append(item)\n",
        "    print(\"Pushed Element: \" + item)\n",
        "\n",
        "# Removing an element from the stack\n",
        "\n",
        "def pop(stack):\n",
        "    if (is_empty(stack)):\n",
        "        return \"The stack is empty\"\n",
        "    return stack.pop()\n",
        "\n",
        "\n",
        "stack = create_stack()\n",
        "push(stack, str(1))\n",
        "push(stack, str(2))\n",
        "push(stack, str(3))\n",
        "push(stack, str(4))\n",
        "push(stack, str(5))\n",
        "\n",
        "print(\"The elements in the stack are:\"+ str(stack))"
      ],
      "metadata": {
        "colab": {
          "base_uri": "https://localhost:8080/"
        },
        "id": "Y-tGVXI6zcGl",
        "outputId": "f6c201f9-30f6-4d68-d879-ec95f7fdb6f6"
      },
      "execution_count": 57,
      "outputs": [
        {
          "output_type": "stream",
          "name": "stdout",
          "text": [
            "Pushed Element: 1\n",
            "Pushed Element: 2\n",
            "Pushed Element: 3\n",
            "Pushed Element: 4\n",
            "Pushed Element: 5\n",
            "The elements in the stack are:['1', '2', '3', '4', '5']\n"
          ]
        }
      ]
    }
  ]
}