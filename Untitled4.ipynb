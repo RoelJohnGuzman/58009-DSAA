{
  "nbformat": 4,
  "nbformat_minor": 0,
  "metadata": {
    "colab": {
      "provenance": [],
      "authorship_tag": "ABX9TyP4ZBwNGNOaPLKuZ/GuQQYa",
      "include_colab_link": true
    },
    "kernelspec": {
      "name": "python3",
      "display_name": "Python 3"
    },
    "language_info": {
      "name": "python"
    }
  },
  "cells": [
    {
      "cell_type": "markdown",
      "metadata": {
        "id": "view-in-github",
        "colab_type": "text"
      },
      "source": [
        "<a href=\"https://colab.research.google.com/github/RoelJohnGuzman/58009-DSAA/blob/main/Untitled4.ipynb\" target=\"_parent\"><img src=\"https://colab.research.google.com/assets/colab-badge.svg\" alt=\"Open In Colab\"/></a>"
      ]
    },
    {
      "cell_type": "code",
      "execution_count": 15,
      "metadata": {
        "colab": {
          "base_uri": "https://localhost:8080/"
        },
        "id": "uKoAKSHZsiA1",
        "outputId": "a065ddb7-8d96-49dd-8b02-2ef0a6b71ddb"
      },
      "outputs": [
        {
          "output_type": "stream",
          "name": "stdout",
          "text": [
            "12\n",
            "1\n",
            "2\n",
            "3\n"
          ]
        }
      ],
      "source": [
        "import array\n",
        "class Node:\n",
        "  def __init__ (self,data):\n",
        "    self.data = data\n",
        "    self.next = None\n",
        "    self.prev = None\n",
        "\n",
        "class DoubleLinked:\n",
        "  def __init__ (self):\n",
        "    self.head = None\n",
        "\n",
        "  def append(self,data):\n",
        "    if self.head is None:\n",
        "        new_node = Node(data)\n",
        "        new_node.prev = None\n",
        "        self.head = new_node\n",
        "    else:\n",
        "        new_node = Node(data)\n",
        "        cur = self.head\n",
        "        while cur.next:\n",
        "          cur = cur.next\n",
        "        cur.next = new_node\n",
        "        new_node.prev = cur\n",
        "        new_node.next = None\n",
        "\n",
        "  def prepend(self,data):\n",
        "    if self.head is None:\n",
        "      new_node = Node(data)\n",
        "      new_node.prev = None\n",
        "      self.head = new_node\n",
        "    else:\n",
        "      new_node = Node(data)\n",
        "      self.head.prev = new_node\n",
        "      new_node.next = self.head\n",
        "      self.head = new_node\n",
        "      new_node.prev = None\n",
        "\n",
        "  def print_list(self):\n",
        "    cur = self.head\n",
        "    while cur:\n",
        "      print(cur.data)\n",
        "      cur = cur.next\n",
        "\n",
        "llist = DoubleLinked()\n",
        "llist.prepend(12)\n",
        "llist.append(1)\n",
        "llist.append(2)\n",
        "llist.append(3)\n",
        "\n",
        "llist.print_list()"
      ]
    }
  ]
}