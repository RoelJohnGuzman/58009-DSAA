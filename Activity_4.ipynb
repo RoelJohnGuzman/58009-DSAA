{
  "nbformat": 4,
  "nbformat_minor": 0,
  "metadata": {
    "colab": {
      "provenance": [],
      "authorship_tag": "ABX9TyO0z5rxRQL9W2idbvc9qRv5",
      "include_colab_link": true
    },
    "kernelspec": {
      "name": "python3",
      "display_name": "Python 3"
    },
    "language_info": {
      "name": "python"
    }
  },
  "cells": [
    {
      "cell_type": "markdown",
      "metadata": {
        "id": "view-in-github",
        "colab_type": "text"
      },
      "source": [
        "<a href=\"https://colab.research.google.com/github/RoelJohnGuzman/58009-DSAA/blob/main/Activity_4.ipynb\" target=\"_parent\"><img src=\"https://colab.research.google.com/assets/colab-badge.svg\" alt=\"Open In Colab\"/></a>"
      ]
    },
    {
      "cell_type": "code",
      "execution_count": null,
      "metadata": {
        "colab": {
          "base_uri": "https://localhost:8080/"
        },
        "id": "HhtXbZeqfVGJ",
        "outputId": "a1addb9c-3427-409e-e796-57716f5a4361"
      },
      "outputs": [
        {
          "output_type": "stream",
          "name": "stdout",
          "text": [
            "['A', 'B', 'C']\n",
            "A\n",
            "C\n",
            "['B']\n"
          ]
        }
      ],
      "source": [
        "queue = []\n",
        "\n",
        "#inqueue items in to queue/lst\n",
        "queue.append('A')\n",
        "queue.append('B')\n",
        "queue.append('C')\n",
        "print(queue)\n",
        "\n",
        "#dequeue items from the queue/list\n",
        "print(queue.pop(0))\n",
        "print(queue.pop(1))\n",
        "print(queue)"
      ]
    },
    {
      "cell_type": "code",
      "source": [
        "list = []\n",
        "\n",
        "\n",
        "print(\"---------------SHOPPING LIST MAKER!!----------- \\n\")\n",
        "i = \"Y\" or \"y\"\n",
        "i2 = \"Y\" or \"y\"\n",
        "x2 = 0\n",
        "x1 = 0\n",
        "x3= 0\n",
        "while i == \"Y\":\n",
        "  print(\"What do you want to add? \")\n",
        "  x1 = input()\n",
        "  list.append(x1)\n",
        "  print(\"Do you want to continue? [Y/N]\")\n",
        "  i = input()\n",
        "else:\n",
        "  print (\"\\n Do you want to remove an item from the list? [Y/N]\" )\n",
        "  print (\"The current list is: \", list)\n",
        "  i2 = input()\n",
        "  if i2 == \"Y\":\n",
        "    print (\"\\n Which item number?\")\n",
        "    x2 = int(input())\n",
        "    x3 = (x2-1)\n",
        "    list.pop(x3)\n",
        "    print(\"\\n Your new list is: \", list)\n",
        "    print(\"\\n -------------Thank you!!-------------\")\n",
        "  else:\n",
        "    print(\"\\n -------------Thank you!!-------------\")\n"
      ],
      "metadata": {
        "colab": {
          "base_uri": "https://localhost:8080/"
        },
        "id": "SKqvqVcxoZnD",
        "outputId": "ab7c7f03-9c58-4dd1-89d9-47f7e6e0de0e"
      },
      "execution_count": 85,
      "outputs": [
        {
          "output_type": "stream",
          "name": "stdout",
          "text": [
            "---------------SHOPPING LIST MAKER!!----------- \n",
            "\n",
            "What do you want to add? \n",
            "Tomato\n",
            "Do you want to continue? [Y/N]\n",
            "Y\n",
            "What do you want to add? \n",
            "Apple\n",
            "Do you want to continue? [Y/N]\n",
            "Orange\n",
            "\n",
            " Do you want to remove an item from the list? [Y/N]\n",
            "The current list is:  ['Tomato', 'Apple']\n",
            "Y\n",
            "\n",
            " Which item number?\n",
            "2\n",
            "\n",
            " Your new list is:  ['Tomato']\n",
            "\n",
            " -------------Thank you!!-------------\n"
          ]
        }
      ]
    }
  ]
}