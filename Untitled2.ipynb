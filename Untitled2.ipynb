{
  "nbformat": 4,
  "nbformat_minor": 0,
  "metadata": {
    "colab": {
      "provenance": [],
      "authorship_tag": "ABX9TyMqEX4TXh347RTTDKEVdDCL",
      "include_colab_link": true
    },
    "kernelspec": {
      "name": "python3",
      "display_name": "Python 3"
    },
    "language_info": {
      "name": "python"
    }
  },
  "cells": [
    {
      "cell_type": "markdown",
      "metadata": {
        "id": "view-in-github",
        "colab_type": "text"
      },
      "source": [
        "<a href=\"https://colab.research.google.com/github/RoelJohnGuzman/58009-DSAA/blob/main/Untitled2.ipynb\" target=\"_parent\"><img src=\"https://colab.research.google.com/assets/colab-badge.svg\" alt=\"Open In Colab\"/></a>"
      ]
    },
    {
      "cell_type": "code",
      "execution_count": 17,
      "metadata": {
        "colab": {
          "base_uri": "https://localhost:8080/"
        },
        "id": "8d56E55avDnU",
        "outputId": "9dcc8d8f-5278-4f60-f548-48a34b4289b0"
      },
      "outputs": [
        {
          "output_type": "stream",
          "name": "stdout",
          "text": [
            "hello\n",
            "heyy\n",
            "meow\n",
            "skrrt\n"
          ]
        }
      ],
      "source": [
        "class Node:\n",
        "  def __init__(self,data):\n",
        "    self.data = data\n",
        "    self.next = None\n",
        "    self.prev = None\n",
        "\n",
        "class Linkedlist:\n",
        "  def __init__(self):\n",
        "    self.head = None\n",
        "    self.tail = None\n",
        "\n",
        "  def printlist(self):\n",
        "    temp = self.head\n",
        "    while(temp):\n",
        "      print(temp.data)\n",
        "      temp = temp.next\n",
        "\n",
        "if __name__ =='__main__':\n",
        "  linked_list = Linkedlist()\n",
        "  linked_list.head = Node(\"hello\")\n",
        "  secondll = Node (\"heyy\")\n",
        "  third = Node(\"meow\")\n",
        "  linked_list.tail = Node(\"skrrt\")\n",
        "\n",
        "\n",
        "  linked_list.head.next = secondll;\n",
        "  secondll.next = third;\n",
        "  third.next = linked_list.tail;\n",
        "\n",
        "linked_list.printlist()\n"
      ]
    }
  ]
}