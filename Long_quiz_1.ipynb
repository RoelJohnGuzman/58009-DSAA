{
  "nbformat": 4,
  "nbformat_minor": 0,
  "metadata": {
    "colab": {
      "provenance": [],
      "authorship_tag": "ABX9TyOlFUSr3HVhdfVGPYGWXQOw",
      "include_colab_link": true
    },
    "kernelspec": {
      "name": "python3",
      "display_name": "Python 3"
    },
    "language_info": {
      "name": "python"
    }
  },
  "cells": [
    {
      "cell_type": "markdown",
      "metadata": {
        "id": "view-in-github",
        "colab_type": "text"
      },
      "source": [
        "<a href=\"https://colab.research.google.com/github/RoelJohnGuzman/58009-DSAA/blob/main/Long_quiz_1.ipynb\" target=\"_parent\"><img src=\"https://colab.research.google.com/assets/colab-badge.svg\" alt=\"Open In Colab\"/></a>"
      ]
    },
    {
      "cell_type": "markdown",
      "source": [
        "Create a python or C++ program that appends each character of your full name and displays each character in reverse order"
      ],
      "metadata": {
        "id": "PiroS72i_EVM"
      }
    },
    {
      "cell_type": "code",
      "source": [
        "empty_list=[]\n",
        "numberofletters=int(input(\"Number of letters in your name:\"))\n",
        "for i in range(0,numberofletters):\n",
        "   letter=str(input())\n",
        "   empty_list.append(letter)\n",
        "if i == len(empty_list):\n",
        "  sys.exit()\n",
        "\n",
        "empty_list.reverse()\n",
        "print(empty_list)"
      ],
      "metadata": {
        "colab": {
          "base_uri": "https://localhost:8080/"
        },
        "id": "wbSt_NfN645q",
        "outputId": "6632a2ef-2992-4c0a-a8e7-2fee8e64aabf"
      },
      "execution_count": null,
      "outputs": [
        {
          "output_type": "stream",
          "name": "stdout",
          "text": [
            "Number of letters in your name:4\n",
            "r\n",
            "o\n",
            "e\n",
            "l\n",
            "['l', 'e', 'o', 'r']\n"
          ]
        }
      ]
    },
    {
      "cell_type": "markdown",
      "source": [
        "Using the set of positive whole numbers from 1 to 10, create a python or C++ program that displays if it is prime or composite"
      ],
      "metadata": {
        "id": "V-fyhseW_NDz"
      }
    },
    {
      "cell_type": "code",
      "source": [
        "numbers = [3,4,5,6,7,8,9,10]\n",
        "print(\"1 is neither prime or composite\")\n",
        "print(\"2 is a prime number\")\n",
        "for num in numbers:\n",
        "    if num % 2 != 0:\n",
        "       print(num, \"is a prime number\")\n",
        "    else:\n",
        "      if (num % 2) == 0:\n",
        "        print(num, \"is a composite number\")\n",
        "\n"
      ],
      "metadata": {
        "colab": {
          "base_uri": "https://localhost:8080/"
        },
        "id": "aQcllxoP_DZ7",
        "outputId": "0941b110-c42d-4a00-8577-dbf3cd394ee1"
      },
      "execution_count": 81,
      "outputs": [
        {
          "output_type": "stream",
          "name": "stdout",
          "text": [
            "1 is neither prime or composite\n",
            "2 is a prime number\n",
            "3 is a prime number\n",
            "4 is a composite number\n",
            "5 is a prime number\n",
            "6 is a composite number\n",
            "7 is a prime number\n",
            "8 is a composite number\n",
            "9 is a prime number\n",
            "10 is a composite number\n"
          ]
        }
      ]
    }
  ]
}